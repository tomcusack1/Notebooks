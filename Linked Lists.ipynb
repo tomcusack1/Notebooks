{
 "cells": [
  {
   "cell_type": "markdown",
   "metadata": {},
   "source": [
    "# Linked Lists"
   ]
  },
  {
   "cell_type": "code",
   "execution_count": 1,
   "metadata": {
    "collapsed": true
   },
   "outputs": [],
   "source": [
    "class Node:\n",
    "    \"\"\"Node class to create new nodes, when we push values into the Linked List.\"\"\"\n",
    "    def __init__(self, value):\n",
    "        self.value = value\n",
    "        self.next_node = None"
   ]
  },
  {
   "cell_type": "code",
   "execution_count": 25,
   "metadata": {
    "collapsed": true
   },
   "outputs": [],
   "source": [
    "class LinkedList:\n",
    "    def __init__(self):\n",
    "        \"\"\"Initilises a Linked List with a null Head.\"\"\"\n",
    "        self.head = None\n",
    "\n",
    "    def reverse(self):\n",
    "        \"\"\"Reverses a Linked List.\"\"\"\n",
    "        previous = None\n",
    "        current = self.head\n",
    "\n",
    "        while current is not None: \n",
    "            next_node = current.next_node \n",
    "            current.next_node = previous \n",
    "            previous = current\n",
    "            current = next_node\n",
    "            self.head = previous\n",
    "\n",
    "    def push(self, value):\n",
    "        \"\"\"Inserts new node at the beginning.\"\"\" \n",
    "        new_node = Node(value) \n",
    "        new_node.next_node = self.head\n",
    "        self.head = new_node\n",
    "\n",
    "    def __str__(self):\n",
    "        \"\"\"Prints the Linked List values out.\"\"\" \n",
    "        temp = self.head\n",
    "        values = list()\n",
    "        while temp:\n",
    "            values.append(temp.value)\n",
    "            temp = temp.next_node\n",
    "\n",
    "        return ' '.join(map(str, values))"
   ]
  },
  {
   "cell_type": "markdown",
   "metadata": {},
   "source": [
    "# How do I create a Linked List?\n",
    "\n",
    "You can add data to a Linked List, by updating the head of the list and repointing the head node to null.\n",
    "\n",
    "```python\n",
    "def push(self, value):\n",
    "    \"\"\"Inserts new node at the beginning.\"\"\" \n",
    "    new_node = Node(value) \n",
    "    new_node.next_node = self.head\n",
    "    self.head = new_node\n",
    "```"
   ]
  },
  {
   "cell_type": "code",
   "execution_count": 26,
   "metadata": {
    "collapsed": true
   },
   "outputs": [],
   "source": [
    "linked_list = LinkedList()\n",
    "\n",
    "linked_list.push(1)\n",
    "linked_list.push(2)\n",
    "linked_list.push(3)\n",
    "linked_list.push(4)"
   ]
  },
  {
   "cell_type": "code",
   "execution_count": 27,
   "metadata": {},
   "outputs": [
    {
     "data": {
      "text/plain": [
       "'4 3 2 1'"
      ]
     },
     "execution_count": 27,
     "metadata": {},
     "output_type": "execute_result"
    }
   ],
   "source": [
    "str(linked_list)"
   ]
  },
  {
   "cell_type": "markdown",
   "metadata": {},
   "source": [
    "# How do I reverse a Linked List?\n",
    "\n",
    "Adding the following method will reverse a Linked List:\n",
    "\n",
    "```python\n",
    "def reverse(self):\n",
    "    \"\"\"Reverses a Linked List.\"\"\"\n",
    "    previous = None\n",
    "    current = self.head\n",
    "\n",
    "    while current is not None: \n",
    "        next_node = current.next_node \n",
    "        current.next_node = previous \n",
    "        previous = current\n",
    "        current = next_node\n",
    "        self.head = previous\n",
    "```"
   ]
  },
  {
   "cell_type": "code",
   "execution_count": 30,
   "metadata": {
    "collapsed": true
   },
   "outputs": [],
   "source": [
    "linked_list.reverse()\n",
    "\n",
    "str(linked_list)"
   ]
  }
 ],
 "metadata": {
  "kernelspec": {
   "display_name": "Python [conda env:man]",
   "language": "python",
   "name": "conda-env-man-py"
  },
  "language_info": {
   "codemirror_mode": {
    "name": "ipython",
    "version": 3
   },
   "file_extension": ".py",
   "mimetype": "text/x-python",
   "name": "python",
   "nbconvert_exporter": "python",
   "pygments_lexer": "ipython3",
   "version": "3.7.3"
  }
 },
 "nbformat": 4,
 "nbformat_minor": 2
}
