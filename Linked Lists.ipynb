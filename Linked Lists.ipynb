{
 "cells": [
  {
   "cell_type": "code",
   "execution_count": 1,
   "metadata": {
    "collapsed": true
   },
   "outputs": [],
   "source": [
    "from dataclasses import dataclass"
   ]
  },
  {
   "cell_type": "markdown",
   "metadata": {},
   "source": [
    "# Singly Linked Lists\n",
    "\n",
    "Singly linked lists contain nodes which have a `value` field as well as `next_node` field, which points to the next node in a line of nodes.\n",
    "\n",
    "![https://miro.medium.com/max/1632/1*rEC8Te27eo5TSYCHMA7Ttw.png](https://miro.medium.com/max/1632/1*rEC8Te27eo5TSYCHMA7Ttw.png)\n",
    "\n",
    "## Disadvantages\n",
    "\n",
    "  1. They use more memory than arrays because of the storage used by their pointers\n",
    "  2. Nodes in a linked list must be read in order from the beginning as linked lists are inherently sequential access\n",
    "  3. Nodes are stored incontiguously, greatly increasing the time periods required to access individual elements within the list, especially with a CPU cache\n",
    "  4. Difficulties arise in linked lists when it comes to reverse traversing. For instance, singly linked lists are cumbersome to navigate backwards and while doubly linked lists are somewhat easier to read, memory is consumed in allocating space for a back-pointer\n",
    "  \n",
    "# Doubly Linked Lists\n",
    "\n",
    "This data structure is the same as a Singly Linked List, but has a pointer to the previous node allowing for greater flexibility in deletion and traversal. However, it comes at a space cost, since memory needs to be allocated to store the previous pointer.\n",
    "\n",
    "![https://miro.medium.com/max/1220/1*ETR5djgjMV_M2Oeitf4XZQ.png](https://miro.medium.com/max/1220/1*ETR5djgjMV_M2Oeitf4XZQ.png)"
   ]
  },
  {
   "cell_type": "code",
   "execution_count": 13,
   "metadata": {
    "collapsed": true
   },
   "outputs": [],
   "source": [
    "@dataclass\n",
    "class Node:\n",
    "    \"\"\"Node class to create new nodes, when we push values into the Linked List.\"\"\"\n",
    "    value: str\n",
    "    next_node: str = None\n",
    "    previous_node: str = None"
   ]
  },
  {
   "cell_type": "code",
   "execution_count": 17,
   "metadata": {
    "collapsed": true
   },
   "outputs": [],
   "source": [
    "@dataclass\n",
    "class LinkedList:\n",
    "    \"\"\"Creates an instance of a Singly Linked List.\"\"\"\n",
    "    head: str = None\n",
    "    list_type: str = 'Singly'\n",
    "\n",
    "    def push(self, value):\n",
    "        \"\"\"Inserts new node at the beginning.\"\"\" \n",
    "        new_node = Node(value=value, next_node=self.head) \n",
    "        self.head = new_node\n",
    "\n",
    "    def reverse(self):\n",
    "        \"\"\"Reverses the nodes order in the Singly Linked list.\"\"\"\n",
    "        previous, current = None, self.head\n",
    "\n",
    "        while current is not None:\n",
    "            next_node = current.next_node \n",
    "            current.next_node = previous \n",
    "            previous, current = current, next_node \n",
    "            self.head = previous\n",
    "\n",
    "    def values(self):\n",
    "        \"\"\"Retrieve the node values within the Singly Linked List.\"\"\"\n",
    "        temp = self.head\n",
    "        values = list()\n",
    "\n",
    "        while temp:\n",
    "            values.append(temp.value)\n",
    "            temp = temp.next_node\n",
    "\n",
    "        return values"
   ]
  },
  {
   "cell_type": "markdown",
   "metadata": {},
   "source": [
    "# 1a) Create a Singly Linked List\n",
    "\n",
    "You can push new nodes to a Singly Linked List, by updating the head of the list and repointing the head node to null."
   ]
  },
  {
   "cell_type": "code",
   "execution_count": 18,
   "metadata": {},
   "outputs": [
    {
     "data": {
      "text/plain": [
       "[4, 3, 2, 1]"
      ]
     },
     "execution_count": 18,
     "metadata": {},
     "output_type": "execute_result"
    }
   ],
   "source": [
    "linked_list = LinkedList()\n",
    "\n",
    "linked_list.push(1)\n",
    "linked_list.push(2)\n",
    "linked_list.push(3)\n",
    "linked_list.push(4)\n",
    "\n",
    "linked_list.values()"
   ]
  },
  {
   "cell_type": "markdown",
   "metadata": {},
   "source": [
    "# 1b) Reverse a Singly Linked List\n",
    "\n",
    "Adding the following method will reverse a Singly Linked List:"
   ]
  },
  {
   "cell_type": "code",
   "execution_count": 19,
   "metadata": {},
   "outputs": [
    {
     "data": {
      "text/plain": [
       "[1, 2, 3, 4]"
      ]
     },
     "execution_count": 19,
     "metadata": {},
     "output_type": "execute_result"
    }
   ],
   "source": [
    "linked_list.reverse()\n",
    "linked_list.values()"
   ]
  },
  {
   "cell_type": "markdown",
   "metadata": {},
   "source": [
    "# 2a) Create a Doubly Linked List"
   ]
  },
  {
   "cell_type": "code",
   "execution_count": 20,
   "metadata": {},
   "outputs": [
    {
     "data": {
      "text/plain": [
       "[4, 3, 2, 1]"
      ]
     },
     "execution_count": 20,
     "metadata": {},
     "output_type": "execute_result"
    }
   ],
   "source": [
    "linked_list = LinkedList(list_type='Doubly')\n",
    "\n",
    "linked_list.push(1)\n",
    "linked_list.push(2)\n",
    "linked_list.push(3)\n",
    "linked_list.push(4)\n",
    "\n",
    "linked_list.values()"
   ]
  }
 ],
 "metadata": {
  "kernelspec": {
   "display_name": "Python [conda env:man]",
   "language": "python",
   "name": "conda-env-man-py"
  },
  "language_info": {
   "codemirror_mode": {
    "name": "ipython",
    "version": 3
   },
   "file_extension": ".py",
   "mimetype": "text/x-python",
   "name": "python",
   "nbconvert_exporter": "python",
   "pygments_lexer": "ipython3",
   "version": "3.7.3"
  }
 },
 "nbformat": 4,
 "nbformat_minor": 2
}
