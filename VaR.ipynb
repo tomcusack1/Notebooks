{
 "cells": [
  {
   "cell_type": "markdown",
   "metadata": {},
   "source": [
    "# Value at Risk (VaR)\n",
    "\n",
    "## Introduction\n",
    "\n",
    "VaR was developed in mid-1990s, in response to the various financial crisis, but the origins of the measures lie further back in time. According to Philippe Jorion, “VaR measures the worst expected loss over a given horizon under normal market conditions at a given level of confidence”.\n",
    "\n",
    "This definition implies that it is necessary to choose two parameters, namely holding period and confidence level. Typically the confidence level lies in the range 90% to 99% such as 90%, 95%, 99%. Holding period may vary from a day to a year.\n",
    "\n",
    "Suppose, an analyst says that the 1-day VaR of a portfolio is £1,000,000 with a 95% confidence level. It implies there is 95% chance that the maximum losses will not exceed £1,000,000 in a single day. In other words, there is only 5% chance that the portfolio losses on a particular day will be greater than £1,000,000.\n",
    "\n",
    "The Variance-Covariance is a parametric method which assumes that the returns are normally distributed."
   ]
  },
  {
   "cell_type": "code",
   "execution_count": 9,
   "metadata": {
    "collapsed": true
   },
   "outputs": [],
   "source": [
    "import numpy as np\n",
    "import pandas as pd\n",
    "import pandas_datareader as pdr\n",
    "from scipy.stats import norm"
   ]
  },
  {
   "cell_type": "code",
   "execution_count": 10,
   "metadata": {
    "collapsed": true
   },
   "outputs": [],
   "source": [
    "df = pdr.get_data_yahoo('JPM')"
   ]
  },
  {
   "cell_type": "markdown",
   "metadata": {},
   "source": [
    "### 1) Calculate the Returns of the Closing Price"
   ]
  },
  {
   "cell_type": "code",
   "execution_count": 18,
   "metadata": {},
   "outputs": [
    {
     "data": {
      "text/plain": [
       "Date\n",
       "2010-01-04         NaN\n",
       "2010-01-05    0.019370\n",
       "2010-01-06    0.005495\n",
       "2010-01-07    0.019808\n",
       "2010-01-08   -0.002456\n",
       "Name: % Returns, dtype: float64"
      ]
     },
     "execution_count": 18,
     "metadata": {},
     "output_type": "execute_result"
    }
   ],
   "source": [
    "df['% Returns'] = df['Adj Close'].pct_change()\n",
    "df['% Returns'].head(5)"
   ]
  },
  {
   "cell_type": "markdown",
   "metadata": {},
   "source": [
    "### 2) Calculate the Mean of the Daily Returns"
   ]
  },
  {
   "cell_type": "code",
   "execution_count": 12,
   "metadata": {},
   "outputs": [
    {
     "data": {
      "text/plain": [
       "0.0006316385901777547"
      ]
     },
     "execution_count": 12,
     "metadata": {},
     "output_type": "execute_result"
    }
   ],
   "source": [
    "mu = np.mean(df['% Returns'])\n",
    "mu"
   ]
  },
  {
   "cell_type": "markdown",
   "metadata": {},
   "source": [
    "### 3) Calculate the Standard Deviation of the Returns"
   ]
  },
  {
   "cell_type": "code",
   "execution_count": 13,
   "metadata": {},
   "outputs": [
    {
     "data": {
      "text/plain": [
       "0.015935320953654516"
      ]
     },
     "execution_count": 13,
     "metadata": {},
     "output_type": "execute_result"
    }
   ],
   "source": [
    "sigma = np.std(df['% Returns'])\n",
    "sigma"
   ]
  },
  {
   "cell_type": "markdown",
   "metadata": {},
   "source": [
    "### 4) Calculate the VaR for 90, 95 & 99% Confidence Levels\n",
    "\n",
    "Consider a portfolio of $P$ dollars, with a confidence level $c$. We are considering daily returns, with asset (or strategy) historical standard deviation $\\sigma$ and mean $\\mu$. Then the daily VaR, under the variance-covariance method for a single asset (or strategy) is calculated as:\n",
    "\n",
    "$P−(P(\\Phi^{-1}(1−c)+1))$\n",
    "\n",
    "__Where:__ \n",
    "\n",
    "$\\Phi$ is the inverse of the cumulative distribution function of a normal distribution\n",
    "\n",
    "$\\mu$ is the mean\n",
    "\n",
    "$\\sigma$ is the standard deviation"
   ]
  },
  {
   "cell_type": "code",
   "execution_count": 19,
   "metadata": {
    "collapsed": true
   },
   "outputs": [],
   "source": [
    "def value_at_risk(portfolio_value, confidence_interval, mu, sigma):\n",
    "    \"\"\"Calculates VaR using the Variance-Covariance Model.\"\"\"\n",
    "    alpha = norm.ppf(1 - confidence_interval, mu, sigma)\n",
    "    \n",
    "    return portfolio_value - (portfolio_value * (alpha + 1))"
   ]
  },
  {
   "cell_type": "markdown",
   "metadata": {},
   "source": [
    "----"
   ]
  },
  {
   "cell_type": "code",
   "execution_count": 20,
   "metadata": {},
   "outputs": [
    {
     "data": {
      "text/plain": [
       "19790.29692543391"
      ]
     },
     "execution_count": 20,
     "metadata": {},
     "output_type": "execute_result"
    }
   ],
   "source": [
    "value_at_risk(portfolio_value=1000000, confidence_interval=0.9, mu=mu, sigma=sigma)"
   ]
  },
  {
   "cell_type": "code",
   "execution_count": 21,
   "metadata": {},
   "outputs": [
    {
     "data": {
      "text/plain": [
       "25579.631877076696"
      ]
     },
     "execution_count": 21,
     "metadata": {},
     "output_type": "execute_result"
    }
   ],
   "source": [
    "value_at_risk(portfolio_value=1000000, confidence_interval=0.95, mu=mu, sigma=sigma)"
   ]
  },
  {
   "cell_type": "code",
   "execution_count": 22,
   "metadata": {},
   "outputs": [
    {
     "data": {
      "text/plain": [
       "36439.46143251483"
      ]
     },
     "execution_count": 22,
     "metadata": {},
     "output_type": "execute_result"
    }
   ],
   "source": [
    "value_at_risk(portfolio_value=1000000, confidence_interval=0.99, mu=mu, sigma=sigma)"
   ]
  }
 ],
 "metadata": {
  "kernelspec": {
   "display_name": "Python [conda env:man]",
   "language": "python",
   "name": "conda-env-man-py"
  },
  "language_info": {
   "codemirror_mode": {
    "name": "ipython",
    "version": 3
   },
   "file_extension": ".py",
   "mimetype": "text/x-python",
   "name": "python",
   "nbconvert_exporter": "python",
   "pygments_lexer": "ipython3",
   "version": "3.7.3"
  }
 },
 "nbformat": 4,
 "nbformat_minor": 2
}
