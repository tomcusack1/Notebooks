{
 "cells": [
  {
   "cell_type": "code",
   "execution_count": 50,
   "metadata": {},
   "outputs": [],
   "source": [
    "import ipywidgets as widgets\n",
    "import matplotlib.pyplot as plt\n",
    "import matplotlib.mlab as mlab\n",
    "import numpy as np\n",
    "import pandas as pd\n",
    "import pandas_datareader as pdr\n",
    "from scipy.stats import norm"
   ]
  },
  {
   "cell_type": "markdown",
   "metadata": {},
   "source": [
    "# Value at Risk (VaR)\n",
    "\n",
    "## Introduction\n",
    "\n",
    "VaR was developed in mid-1990s, in response to the various financial crisis, but the origins of the measures lie further back in time. According to Philippe Jorion, “VaR measures the worst expected loss over a given horizon under normal market conditions at a given level of confidence”.\n",
    "\n",
    "This definition implies that it is necessary to choose two parameters, namely holding period and confidence level. Typically the confidence level lies in the range 90% to 99% such as 90%, 95%, 99%. Holding period may vary from a day to a year.\n",
    "\n",
    "Suppose, an analyst says that the 1-day VaR of a portfolio is £1,000,000 with a 95% confidence level. It implies there is 95% chance that the maximum losses will not exceed £1,000,000 in a single day. In other words, there is only 5% chance that the portfolio losses on a particular day will be greater than £1,000,000.\n",
    "\n",
    "The Variance-Covariance is a parametric method which assumes that the returns are normally distributed.\n",
    "\n",
    "[https://www.quantopian.com/posts/quantopian-lecture-series-var-and-cvar-expected-shortfall](https://www.quantopian.com/posts/quantopian-lecture-series-var-and-cvar-expected-shortfall)"
   ]
  },
  {
   "cell_type": "code",
   "execution_count": 2,
   "metadata": {
    "collapsed": true
   },
   "outputs": [],
   "source": [
    "# Get historical close data for JP Morgan\n",
    "df = pdr.get_data_yahoo('JPM')"
   ]
  },
  {
   "cell_type": "markdown",
   "metadata": {},
   "source": [
    "### 1) Calculate the Returns"
   ]
  },
  {
   "cell_type": "code",
   "execution_count": 73,
   "metadata": {},
   "outputs": [],
   "source": [
    "df['% Returns'] = df['Adj Close'].pct_change()"
   ]
  },
  {
   "cell_type": "markdown",
   "metadata": {},
   "source": [
    "### 2) Calculate the Mean"
   ]
  },
  {
   "cell_type": "code",
   "execution_count": 75,
   "metadata": {},
   "outputs": [],
   "source": [
    "mu = np.mean(df['% Returns'])"
   ]
  },
  {
   "cell_type": "markdown",
   "metadata": {},
   "source": [
    "### 3) Calculate the Standard Deviation"
   ]
  },
  {
   "cell_type": "code",
   "execution_count": 74,
   "metadata": {},
   "outputs": [],
   "source": [
    "sigma = np.std(df['% Returns'])"
   ]
  },
  {
   "cell_type": "markdown",
   "metadata": {},
   "source": [
    "### 4) Calculate VaR\n",
    "\n",
    "Consider a portfolio of $P$ pounds, with a confidence level $c$. We are considering daily returns, with asset (or strategy) historical standard deviation $\\sigma$ and mean $\\mu$. Then the daily VaR, under the variance-covariance method for a single asset (or strategy) is calculated as:\n",
    "\n",
    "$\\alpha = \\Phi^{-1}(1 − c)$\n",
    "\n",
    "$V = P − P(\\alpha + 1)$\n",
    "\n",
    "__Where:__ \n",
    "\n",
    "$\\alpha$ is the alpha\n",
    "\n",
    "$\\Phi$ is the inverse of the cumulative distribution function of a normal distribution\n",
    "\n",
    "$\\mu$ is the mean\n",
    "\n",
    "$\\sigma$ is the standard deviation"
   ]
  },
  {
   "cell_type": "code",
   "execution_count": 87,
   "metadata": {},
   "outputs": [
    {
     "data": {
      "application/vnd.jupyter.widget-view+json": {
       "model_id": "4173c77f9dfd4bd3ac9ab90f12610d34",
       "version_major": 2,
       "version_minor": 0
      },
      "text/plain": [
       "interactive(children=(FloatSlider(value=5500000.0, description='portfolio_value', max=10000000.0, min=1000000.…"
      ]
     },
     "metadata": {},
     "output_type": "display_data"
    }
   ],
   "source": [
    "@widgets.interact(portfolio_value=(1000000., 10000000., 100000.), confidence_interval=(0.01, 0.99, 0.01), \n",
    "                  mu=(0.0001, 0.001, 0.0001), sigma=(0.01, 0.02, 0.001))\n",
    "def value_at_risk(portfolio_value, confidence_interval, mu, sigma):\n",
    "    \"\"\"Calculates VaR using the Variance-Covariance Model.\"\"\"\n",
    "    alpha = norm.ppf(1 - confidence_interval, mu, sigma)\n",
    "    value_at_risk = portfolio_value - (portfolio_value * (alpha + 1))\n",
    "    \n",
    "    print(f'Alpha: {alpha}')\n",
    "    print(f'VaR: £{value_at_risk}')"
   ]
  },
  {
   "cell_type": "markdown",
   "metadata": {},
   "source": [
    "### 5) Visualise the Distribution"
   ]
  },
  {
   "cell_type": "code",
   "execution_count": 92,
   "metadata": {},
   "outputs": [
    {
     "data": {
      "application/vnd.jupyter.widget-view+json": {
       "model_id": "46bd625c402940ddb34745c536b5bd6a",
       "version_major": 2,
       "version_minor": 0
      },
      "text/plain": [
       "interactive(children=(FloatSlider(value=0.49, description='confidence_level', max=0.99, min=0.01, step=0.02), …"
      ]
     },
     "metadata": {},
     "output_type": "display_data"
    }
   ],
   "source": [
    "@widgets.interact(confidence_level=(0.01, 0.99, 0.02))\n",
    "def visualise(confidence_level):\n",
    "    df['% Returns'].hist(bins=40, density=True, histtype='stepfilled', alpha=0.5)\n",
    "    x = np.linspace(mu - 3 * sigma, mu + 3 * sigma, 100)\n",
    "    value_at_risk = norm.ppf(1 - confidence_level, mu, sigma)\n",
    "    plt.axvline(value_at_risk, color='red', linestyle='solid')\n",
    "    plt.plot(x, norm.pdf(x, mu, sigma), 'g')"
   ]
  },
  {
   "cell_type": "markdown",
   "metadata": {},
   "source": [
    "### 6) Jarque Bera Test"
   ]
  },
  {
   "cell_type": "code",
   "execution_count": 72,
   "metadata": {},
   "outputs": [
    {
     "name": "stdout",
     "output_type": "stream",
     "text": [
      "The portfolio returns are likely not normal.\n"
     ]
    }
   ],
   "source": [
    "from statsmodels.stats.stattools import jarque_bera\n",
    "\n",
    "_, pvalue, _, _ = jarque_bera(df['% Returns'])\n",
    "\n",
    "if pvalue > 0.05:\n",
    "    print('The portfolio returns are likely normal.')\n",
    "else:\n",
    "    print('The portfolio returns are likely not normal.')"
   ]
  }
 ],
 "metadata": {
  "kernelspec": {
   "display_name": "Python [conda env:man]",
   "language": "python",
   "name": "conda-env-man-py"
  },
  "language_info": {
   "codemirror_mode": {
    "name": "ipython",
    "version": 3
   },
   "file_extension": ".py",
   "mimetype": "text/x-python",
   "name": "python",
   "nbconvert_exporter": "python",
   "pygments_lexer": "ipython3",
   "version": "3.7.3"
  }
 },
 "nbformat": 4,
 "nbformat_minor": 2
}
